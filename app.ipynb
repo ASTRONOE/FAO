{
 "cells": [
  {
   "cell_type": "code",
   "execution_count": 1,
   "id": "b24bd42d-588b-49e8-96b4-c7ea8ec2014a",
   "metadata": {},
   "outputs": [
    {
     "name": "stderr",
     "output_type": "stream",
     "text": [
      "\u001b[32m2023-12-25 16:27:07.837\u001b[0m | \u001b[1mINFO    \u001b[0m | \u001b[36mhdx.api.configuration\u001b[0m:\u001b[36m__init__\u001b[0m:\u001b[36m95\u001b[0m - \u001b[1mNo HDX base configuration parameter. Using default base configuration file: C:\\Users\\USER\\anaconda3\\envs\\hdxenv\\Lib\\site-packages\\hdx\\api\\hdx_base_configuration.yaml.\u001b[0m\n",
      "\u001b[32m2023-12-25 16:27:07.853\u001b[0m | \u001b[1mINFO    \u001b[0m | \u001b[36mhdx.api.configuration\u001b[0m:\u001b[36m__init__\u001b[0m:\u001b[36m98\u001b[0m - \u001b[1mLoading HDX base configuration from: C:\\Users\\USER\\anaconda3\\envs\\hdxenv\\Lib\\site-packages\\hdx\\api\\hdx_base_configuration.yaml\u001b[0m\n",
      "\u001b[32m2023-12-25 16:27:08.010\u001b[0m | \u001b[1mINFO    \u001b[0m | \u001b[36mhdx.api.configuration\u001b[0m:\u001b[36m__init__\u001b[0m:\u001b[36m135\u001b[0m - \u001b[1mNo HDX configuration parameter and no configuration file at default path: C:\\Users\\USER\\.hdx_configuration.yaml.\u001b[0m\n",
      "\u001b[32m2023-12-25 16:27:08.042\u001b[0m | \u001b[1mINFO    \u001b[0m | \u001b[36mhdx.api.configuration\u001b[0m:\u001b[36m__init__\u001b[0m:\u001b[36m224\u001b[0m - \u001b[1mRead only access to HDX: True\u001b[0m\n"
     ]
    }
   ],
   "source": [
    "from deta import Deta\n",
    "import pandas as pd\n",
    "import os\n",
    "import wfpbase\n",
    "from dotenv import load_dotenv\n",
    "from  dash import Dash, dcc, html, callback, Output, Input"
   ]
  },
  {
   "cell_type": "code",
   "execution_count": null,
   "id": "db17f1d1-a379-4771-9dad-2681e8b4d5e4",
   "metadata": {},
   "outputs": [],
   "source": []
  }
 ],
 "metadata": {
  "kernelspec": {
   "display_name": "hdxenv",
   "language": "python",
   "name": "hdxenv"
  },
  "language_info": {
   "codemirror_mode": {
    "name": "ipython",
    "version": 3
   },
   "file_extension": ".py",
   "mimetype": "text/x-python",
   "name": "python",
   "nbconvert_exporter": "python",
   "pygments_lexer": "ipython3",
   "version": "3.11.5"
  }
 },
 "nbformat": 4,
 "nbformat_minor": 5
}
